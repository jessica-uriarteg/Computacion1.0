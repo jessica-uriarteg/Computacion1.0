{
 "cells": [
  {
   "cell_type": "code",
   "execution_count": 1,
   "metadata": {},
   "outputs": [],
   "source": [
    "#####################################\n",
    "# --------------------------------- #\n",
    "#      Oscilador de van de Pol      #\n",
    "# --------------------------------- #\n",
    "#\n",
    "# ____Jessica Isamar Uriarte Garcia #\n",
    "# _______________________Abril 2018 #\n",
    "#####################################\n",
    "\n",
    "import pandas as pd\n",
    "import numpy as np\n",
    "import matplotlib.pyplot as plt\n",
    "import matplotlib\n",
    "from scipy.integrate import odeint\n",
    "from numpy import loadtxt\n",
    "from pylab import figure, plot, xlabel, grid, hold, legend, title, savefig\n",
    "from matplotlib.font_manager import FontProperties"
   ]
  },
  {
   "cell_type": "code",
   "execution_count": null,
   "metadata": {},
   "outputs": [],
   "source": []
  }
 ],
 "metadata": {
  "kernelspec": {
   "display_name": "Python [default]",
   "language": "python",
   "name": "python3"
  },
  "language_info": {
   "codemirror_mode": {
    "name": "ipython",
    "version": 3
   },
   "file_extension": ".py",
   "mimetype": "text/x-python",
   "name": "python",
   "nbconvert_exporter": "python",
   "pygments_lexer": "ipython3",
   "version": "3.5.2"
  }
 },
 "nbformat": 4,
 "nbformat_minor": 2
}
