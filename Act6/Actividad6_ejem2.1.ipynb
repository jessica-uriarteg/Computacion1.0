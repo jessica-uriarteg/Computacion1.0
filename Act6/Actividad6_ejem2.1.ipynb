{
 "cells": [
  {
   "cell_type": "code",
   "execution_count": 1,
   "metadata": {},
   "outputs": [],
   "source": [
    "###########################################\n",
    "# --------------------------------------- #\n",
    "#      Sistema de resortes acoplados      #\n",
    "# --------------------------------------- #\n",
    "#\n",
    "# __________Jessica Isamar Uriarte Garcia #\n",
    "# ____________________________ Abril 2018 #\n",
    "###########################################\n",
    "\n",
    "import pandas as pd\n",
    "import numpy as np\n",
    "import matplotlib.pyplot as plt\n",
    "import matplotlib\n",
    "from scipy.integrate import odeint\n",
    "from numpy import loadtxt\n",
    "from pylab import figure, plot, xlabel, grid, hold, legend, title, savefig\n",
    "from matplotlib.font_manager import FontProperties"
   ]
  },
  {
   "cell_type": "code",
   "execution_count": 2,
   "metadata": {},
   "outputs": [],
   "source": [
    "################\n",
    "## Ejemplo 2.1 #\n",
    "################\n",
    "\n",
    "\n",
    "def vectorfield(w, t, p):\n",
    "    \"\"\"\n",
    "    Defines the differential equations for the coupled spring-mass system.\n",
    "\n",
    "    Arguments:\n",
    "        w :  vector of the state variables:\n",
    "                  w = [x1,y1,x2,y2]\n",
    "        t :  time\n",
    "        p :  vector of the parameters:\n",
    "                  p = [m1,m2,k1,k2,L1,L2,b1,b2]\n",
    "    \"\"\"\n",
    "    x1, y1, x2, y2 = w\n",
    "    m1, m2, k1, k2, L1, L2, b1, b2 = p\n",
    "\n",
    "    # Create f = (x1',y1',x2',y2'):\n",
    "    f = [y1,\n",
    "         (-b1 * y1 - k1 * (x1 - L1) + k2 * (x2 - x1 - L2)) / m1,\n",
    "         y2,\n",
    "         (-b2 * y2 - k2 * (x2 - x1 - L2)) / m2]\n",
    "    return f"
   ]
  },
  {
   "cell_type": "code",
   "execution_count": 3,
   "metadata": {},
   "outputs": [],
   "source": [
    "# Use ODEINT to solve the differential equations defined by the vector field\n",
    "\n",
    "\n",
    "# Parameter values\n",
    "# Masses:\n",
    "m1 = 1.0\n",
    "m2 = 1.0\n",
    "# Spring constants\n",
    "k1 = 6.0\n",
    "k2 = 4.0\n",
    "# Natural lengths\n",
    "L1 = 0.0\n",
    "L2 = 0.0\n",
    "# Friction coefficients\n",
    "b1 = 0.0\n",
    "b2 = 0.0\n",
    "\n",
    "# Initial conditions\n",
    "# x1 and x2 are the initial displacements; y1 and y2 are the initial velocities\n",
    "x1 = 1.0\n",
    "y1 = 0.0\n",
    "x2 = 2.0\n",
    "y2 = 0.0\n",
    "\n",
    "# ODE solver parameters\n",
    "abserr = 1.0e-8\n",
    "relerr = 1.0e-6\n",
    "stoptime = 50\n",
    "numpoints = 500\n",
    "\n",
    "# Create the time samples for the output of the ODE solver.\n",
    "t = [stoptime * float(i) / (numpoints - 1) for i in range(numpoints)]\n",
    "\n",
    "# Pack up the parameters and initial conditions:\n",
    "p = [m1, m2, k1, k2, L1, L2, b1, b2]\n",
    "w0 = [x1, y1, x2, y2]\n",
    "\n",
    "# Call the ODE solver.\n",
    "wsol = odeint(vectorfield, w0, t, args=(p,),\n",
    "              atol=abserr, rtol=relerr)\n",
    "\n",
    "with open('two_springs.dat', 'w') as f:\n",
    "    # Print & save the solution.\n",
    "    for t1, w1 in zip(t, wsol):\n",
    "        print  ( t1, w1[0], w1[1], w1[2], w1[3], file=f )"
   ]
  },
  {
   "cell_type": "code",
   "execution_count": 8,
   "metadata": {},
   "outputs": [],
   "source": [
    "# Plot the solution that was generated\n",
    "\n",
    "t, x1, xy, x2, y2 = loadtxt('two_springs.dat', unpack=True)\n",
    "lw = 1\n",
    "\n",
    "figure(1, figsize=(6, 4.5))\n",
    "plot(t, x1, 'c', linewidth=lw)\n",
    "plot(t, x2, 'b', linewidth=lw)\n",
    "title('Plot of x1 and x2 showing synchronized motion')\n",
    "legend((r'$x_1$', r'$x_2$'))\n",
    "xlabel('t')\n",
    "grid(True)\n",
    "savefig('ejem2.1_plot.png', dpi=100)"
   ]
  },
  {
   "cell_type": "code",
   "execution_count": 9,
   "metadata": {
    "scrolled": true
   },
   "outputs": [],
   "source": [
    "figure(2, figsize=(6, 4.5))\n",
    "plot(x1, x2, 'b', linewidth=lw)\n",
    "grid(True)\n",
    "title('x1 versus x2')\n",
    "legend((r'$x_1$', r'$x_2$'))\n",
    "savefig('ejem2.1_plot2.png', dpi=100)"
   ]
  },
  {
   "cell_type": "code",
   "execution_count": 6,
   "metadata": {},
   "outputs": [
    {
     "name": "stdout",
     "output_type": "stream",
     "text": [
      "[[ 1.          0.          2.          0.        ]\n",
      " [ 0.98997671 -0.1997308   1.97995342 -0.39946159]\n",
      " [ 0.9601082  -0.39545787  1.9202164  -0.79091574]\n",
      " ..., \n",
      " [ 0.2556686  -1.36713343  0.51133719 -2.73426686]\n",
      " [ 0.11657659 -1.4044951   0.23315318 -2.80899019]\n",
      " [-0.02485232 -1.41370119 -0.04970465 -2.82740238]]\n"
     ]
    }
   ],
   "source": [
    "print(wsol)"
   ]
  },
  {
   "cell_type": "code",
   "execution_count": 10,
   "metadata": {},
   "outputs": [],
   "source": [
    "figure(3, figsize=(6, 4.5))\n",
    "plot(x1,xy, 'c', linewidth=lw)\n",
    "plot(x2,y2, 'b', linewidth=lw)\n",
    "title('Phase Portraits for x1 y x2 ')\n",
    "grid(True)\n",
    "legend((r'$x_1$', r'$x_2$'), prop=FontProperties(size=10))\n",
    "savefig(\"ejem2.1_plot3.png\", dpi=100)"
   ]
  },
  {
   "cell_type": "code",
   "execution_count": null,
   "metadata": {},
   "outputs": [],
   "source": []
  }
 ],
 "metadata": {
  "anaconda-cloud": {},
  "kernelspec": {
   "display_name": "Python [default]",
   "language": "python",
   "name": "python3"
  },
  "language_info": {
   "codemirror_mode": {
    "name": "ipython",
    "version": 3
   },
   "file_extension": ".py",
   "mimetype": "text/x-python",
   "name": "python",
   "nbconvert_exporter": "python",
   "pygments_lexer": "ipython3",
   "version": "3.5.2"
  }
 },
 "nbformat": 4,
 "nbformat_minor": 2
}
