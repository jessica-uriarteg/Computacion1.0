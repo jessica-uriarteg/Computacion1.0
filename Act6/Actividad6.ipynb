{
 "cells": [
  {
   "cell_type": "code",
   "execution_count": 3,
   "metadata": {},
   "outputs": [],
   "source": [
    "###########################################\n",
    "# --------------------------------------- #\n",
    "#      Sistema de resortes acoplados      #\n",
    "# --------------------------------------- #\n",
    "#\n",
    "# __________Jessica Isamar Uriarte Garcia #\n",
    "# ____________________________ Abril 2018 #\n",
    "###########################################\n",
    "\n",
    "import pandas as pd\n",
    "import numpy as np\n",
    "from scipy.integrate import odeint\n",
    "from numpy import loadtxt\n",
    "from pylab import figure, plot, xlabel, grid, hold, legend, title, savefig\n",
    "from matplotlib.font_manager import FontProperties"
   ]
  },
  {
   "cell_type": "code",
   "execution_count": 4,
   "metadata": {},
   "outputs": [],
   "source": [
    "def vectorfield(w, t, p):\n",
    "    \"\"\"\n",
    "    Defines the differential equations for the coupled spring-mass system.\n",
    "\n",
    "    Arguments:\n",
    "        w :  vector of the state variables:\n",
    "                  w = [x1,y1,x2,y2]\n",
    "        t :  time\n",
    "        p :  vector of the parameters:\n",
    "                  p = [m1,m2,k1,k2,L1,L2,b1,b2]\n",
    "    \"\"\"\n",
    "    x1, y1, x2, y2 = w\n",
    "    m1, m2, k1, k2, L1, L2, b1, b2 = p\n",
    "\n",
    "    # Create f = (x1',y1',x2',y2'):\n",
    "    f = [y1,\n",
    "         (-b1 * y1 - k1 * (x1 - L1) + k2 * (x2 - x1 - L2)) / m1,\n",
    "         y2,\n",
    "         (-b2 * y2 - k2 * (x2 - x1 - L2)) / m2]\n",
    "    return f"
   ]
  },
  {
   "cell_type": "code",
   "execution_count": 5,
   "metadata": {},
   "outputs": [
    {
     "ename": "TypeError",
     "evalue": "unsupported operand type(s) for >>: 'builtin_function_or_method' and '_io.TextIOWrapper'",
     "output_type": "error",
     "traceback": [
      "\u001b[0;31m---------------------------------------------------------------------------\u001b[0m",
      "\u001b[0;31mTypeError\u001b[0m                                 Traceback (most recent call last)",
      "\u001b[0;32m<ipython-input-5-f923d7461735>\u001b[0m in \u001b[0;36m<module>\u001b[0;34m()\u001b[0m\n\u001b[1;32m     45\u001b[0m     \u001b[0;31m# Print & save the solution.\u001b[0m\u001b[0;34m\u001b[0m\u001b[0;34m\u001b[0m\u001b[0m\n\u001b[1;32m     46\u001b[0m     \u001b[0;32mfor\u001b[0m \u001b[0mt1\u001b[0m\u001b[0;34m,\u001b[0m \u001b[0mw1\u001b[0m \u001b[0;32min\u001b[0m \u001b[0mzip\u001b[0m\u001b[0;34m(\u001b[0m\u001b[0mt\u001b[0m\u001b[0;34m,\u001b[0m \u001b[0mwsol\u001b[0m\u001b[0;34m)\u001b[0m\u001b[0;34m:\u001b[0m\u001b[0;34m\u001b[0m\u001b[0m\n\u001b[0;32m---> 47\u001b[0;31m         \u001b[0mprint\u001b[0m \u001b[0;34m>>\u001b[0m \u001b[0mf\u001b[0m\u001b[0;34m,\u001b[0m \u001b[0mt1\u001b[0m\u001b[0;34m,\u001b[0m \u001b[0mw1\u001b[0m\u001b[0;34m[\u001b[0m\u001b[0;36m0\u001b[0m\u001b[0;34m]\u001b[0m\u001b[0;34m,\u001b[0m \u001b[0mw1\u001b[0m\u001b[0;34m[\u001b[0m\u001b[0;36m1\u001b[0m\u001b[0;34m]\u001b[0m\u001b[0;34m,\u001b[0m \u001b[0mw1\u001b[0m\u001b[0;34m[\u001b[0m\u001b[0;36m2\u001b[0m\u001b[0;34m]\u001b[0m\u001b[0;34m,\u001b[0m \u001b[0mw1\u001b[0m\u001b[0;34m[\u001b[0m\u001b[0;36m3\u001b[0m\u001b[0;34m]\u001b[0m\u001b[0;34m\u001b[0m\u001b[0m\n\u001b[0m",
      "\u001b[0;31mTypeError\u001b[0m: unsupported operand type(s) for >>: 'builtin_function_or_method' and '_io.TextIOWrapper'"
     ]
    }
   ],
   "source": [
    "# Use ODEINT to solve the differential equations defined by the vector field\n",
    "\n",
    "\n",
    "# Parameter values\n",
    "# Masses:\n",
    "m1 = 1.0\n",
    "m2 = 1.5\n",
    "# Spring constants\n",
    "k1 = 8.0\n",
    "k2 = 40.0\n",
    "# Natural lengths\n",
    "L1 = 0.5\n",
    "L2 = 1.0\n",
    "# Friction coefficients\n",
    "b1 = 0.8\n",
    "b2 = 0.5\n",
    "\n",
    "# Initial conditions\n",
    "# x1 and x2 are the initial displacements; y1 and y2 are the initial velocities\n",
    "x1 = 0.5\n",
    "y1 = 0.0\n",
    "x2 = 2.25\n",
    "y2 = 0.0\n",
    "\n",
    "# ODE solver parameters\n",
    "abserr = 1.0e-8\n",
    "relerr = 1.0e-6\n",
    "stoptime = 10.0\n",
    "numpoints = 250\n",
    "\n",
    "# Create the time samples for the output of the ODE solver.\n",
    "# I use a large number of points, only because I want to make\n",
    "# a plot of the solution that looks nice.\n",
    "t = [stoptime * float(i) / (numpoints - 1) for i in range(numpoints)]\n",
    "\n",
    "# Pack up the parameters and initial conditions:\n",
    "p = [m1, m2, k1, k2, L1, L2, b1, b2]\n",
    "w0 = [x1, y1, x2, y2]\n",
    "\n",
    "# Call the ODE solver.\n",
    "wsol = odeint(vectorfield, w0, t, args=(p,),\n",
    "              atol=abserr, rtol=relerr)\n",
    "\n",
    "with open('two_springs.dat', 'w') as f:\n",
    "    # Print & save the solution.\n",
    "    for t1, w1 in zip(t, wsol):\n",
    "        print >> f, t1, w1[0], w1[1], w1[2], w1[3]"
   ]
  },
  {
   "cell_type": "code",
   "execution_count": 6,
   "metadata": {},
   "outputs": [
    {
     "name": "stderr",
     "output_type": "stream",
     "text": [
      "/Users/jessicauriarte/anaconda/lib/python3.5/site-packages/numpy/lib/npyio.py:893: UserWarning: loadtxt: Empty input file: \"two_springs.dat\"\n",
      "  warnings.warn('loadtxt: Empty input file: \"%s\"' % fname)\n"
     ]
    },
    {
     "ename": "ValueError",
     "evalue": "not enough values to unpack (expected 5, got 0)",
     "output_type": "error",
     "traceback": [
      "\u001b[0;31m---------------------------------------------------------------------------\u001b[0m",
      "\u001b[0;31mValueError\u001b[0m                                Traceback (most recent call last)",
      "\u001b[0;32m<ipython-input-6-377a2e017e14>\u001b[0m in \u001b[0;36m<module>\u001b[0;34m()\u001b[0m\n\u001b[1;32m      5\u001b[0m \u001b[0;32mfrom\u001b[0m \u001b[0mmatplotlib\u001b[0m\u001b[0;34m.\u001b[0m\u001b[0mfont_manager\u001b[0m \u001b[0;32mimport\u001b[0m \u001b[0mFontProperties\u001b[0m\u001b[0;34m\u001b[0m\u001b[0m\n\u001b[1;32m      6\u001b[0m \u001b[0;34m\u001b[0m\u001b[0m\n\u001b[0;32m----> 7\u001b[0;31m \u001b[0mt\u001b[0m\u001b[0;34m,\u001b[0m \u001b[0mx1\u001b[0m\u001b[0;34m,\u001b[0m \u001b[0mxy\u001b[0m\u001b[0;34m,\u001b[0m \u001b[0mx2\u001b[0m\u001b[0;34m,\u001b[0m \u001b[0my2\u001b[0m \u001b[0;34m=\u001b[0m \u001b[0mloadtxt\u001b[0m\u001b[0;34m(\u001b[0m\u001b[0;34m'two_springs.dat'\u001b[0m\u001b[0;34m,\u001b[0m \u001b[0munpack\u001b[0m\u001b[0;34m=\u001b[0m\u001b[0;32mTrue\u001b[0m\u001b[0;34m)\u001b[0m\u001b[0;34m\u001b[0m\u001b[0m\n\u001b[0m\u001b[1;32m      8\u001b[0m \u001b[0;34m\u001b[0m\u001b[0m\n\u001b[1;32m      9\u001b[0m \u001b[0mfigure\u001b[0m\u001b[0;34m(\u001b[0m\u001b[0;36m1\u001b[0m\u001b[0;34m,\u001b[0m \u001b[0mfigsize\u001b[0m\u001b[0;34m=\u001b[0m\u001b[0;34m(\u001b[0m\u001b[0;36m6\u001b[0m\u001b[0;34m,\u001b[0m \u001b[0;36m4.5\u001b[0m\u001b[0;34m)\u001b[0m\u001b[0;34m)\u001b[0m\u001b[0;34m\u001b[0m\u001b[0m\n",
      "\u001b[0;31mValueError\u001b[0m: not enough values to unpack (expected 5, got 0)"
     ]
    }
   ],
   "source": [
    "# Plot the solution that was generated\n",
    "\n",
    "\n",
    "t, x1, xy, x2, y2 = loadtxt('two_springs.dat', unpack=True)\n",
    "\n",
    "figure(1, figsize=(6, 4.5))\n",
    "\n",
    "xlabel('t')\n",
    "grid(True)\n",
    "hold(True)\n",
    "lw = 1\n",
    "\n",
    "plot(t, x1, 'b', linewidth=lw)\n",
    "plot(t, x2, 'g', linewidth=lw)\n",
    "\n",
    "legend((r'$x_1$', r'$x_2$'), prop=FontProperties(size=16))\n",
    "title('Mass Displacements for the\\nCoupled Spring-Mass System')\n",
    "savefig('two_springs.png', dpi=100)"
   ]
  },
  {
   "cell_type": "code",
   "execution_count": null,
   "metadata": {},
   "outputs": [],
   "source": []
  }
 ],
 "metadata": {
  "kernelspec": {
   "display_name": "Python [default]",
   "language": "python",
   "name": "python3"
  },
  "language_info": {
   "codemirror_mode": {
    "name": "ipython",
    "version": 3
   },
   "file_extension": ".py",
   "mimetype": "text/x-python",
   "name": "python",
   "nbconvert_exporter": "python",
   "pygments_lexer": "ipython3",
   "version": "3.5.2"
  }
 },
 "nbformat": 4,
 "nbformat_minor": 2
}
