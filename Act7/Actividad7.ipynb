{
 "cells": [
  {
   "cell_type": "code",
   "execution_count": 1,
   "metadata": {},
   "outputs": [],
   "source": [
    "############################################################\n",
    "# -------------------------------------------------------- #\n",
    "# Sistema de masas con oscilaciones no lineales y forzadas #\n",
    "# -------------------------------------------------------- #\n",
    "#\n",
    "# ___________________________Jessica Isamar Uriarte Garcia #\n",
    "# _____________________________________________ Abril 2018 #\n",
    "############################################################\n",
    "\n",
    "import pandas as pd\n",
    "import numpy as np\n",
    "import matplotlib.pyplot as plt\n",
    "import matplotlib\n",
    "from scipy.integrate import odeint\n",
    "from numpy import loadtxt\n",
    "from pylab import figure, plot, xlabel, grid, hold, legend, title, savefig\n",
    "from matplotlib.font_manager import FontProperties"
   ]
  },
  {
   "cell_type": "code",
   "execution_count": null,
   "metadata": {},
   "outputs": [],
   "source": [
    "\n",
    "################\n",
    "## Ejemplo 2.1 #\n",
    "################\n",
    "\n",
    "\n",
    "def vectorfield(w, t, p):\n",
    "    \"\"\"\n",
    "    Defines the differential equations for the coupled spring-mass system.\n",
    "\n",
    "    Arguments:\n",
    "        w :  vector of the state variables:\n",
    "                  w = [x1,y1,x2,y2]\n",
    "        t :  time\n",
    "        p :  vector of the parameters:\n",
    "                  p = [m1,m2,k1,k2,L1,L2,b1,b2]\n",
    "    \"\"\"\n",
    "    x1, y1, x2, y2 = w\n",
    "    m1, m2, k1, k2, L1, L2, b1, b2 = p\n",
    "\n",
    "    # Create f = (x1',y1',x2',y2'):\n",
    "    f = [y1,\n",
    "         (-b1 * y1 - k1 * (x1 - L1) + k2 * (x2 - x1 - L2)) / m1,\n",
    "         y2,\n",
    "         (-b2 * y2 - k2 * (x2 - x1 - L2)) / m2]\n",
    "    return f"
   ]
  }
 ],
 "metadata": {
  "kernelspec": {
   "display_name": "Python [default]",
   "language": "python",
   "name": "python3"
  },
  "language_info": {
   "codemirror_mode": {
    "name": "ipython",
    "version": 3
   },
   "file_extension": ".py",
   "mimetype": "text/x-python",
   "name": "python",
   "nbconvert_exporter": "python",
   "pygments_lexer": "ipython3",
   "version": "3.5.2"
  }
 },
 "nbformat": 4,
 "nbformat_minor": 2
}
